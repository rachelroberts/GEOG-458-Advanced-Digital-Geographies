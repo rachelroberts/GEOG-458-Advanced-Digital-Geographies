{
 "cells": [
  {
   "cell_type": "markdown",
   "metadata": {},
   "source": [
    "ARCPY LAB #1: \n",
    "Rachel Roberts\n",
    "Febuary 3, 2016\n",
    "Worked together with Will Chen. Discussed the joining of tables, the SQL statement, how to 'select by attributes', how to output files, store the output files, and the use of cursors and lists."
   ]
  },
  {
   "cell_type": "code",
   "execution_count": 3,
   "metadata": {
    "collapsed": false
   },
   "outputs": [],
   "source": [
    "#import Arcpy\n",
    "import sys \n",
    "sys.path.append('C:\\\\Program Files (x86)\\\\ArcGIS\\\\Desktop10.3\\\\bin')\n",
    "sys.path.append('C:\\\\Program Files (x86)\\\\ArcGIS\\\\Desktop10.3\\\\arcpy')\n",
    "sys.path.append('C:\\\\Program Files (x86)\\\\ArcGIS\\\\Desktop10.3\\\\ArcToolbox\\\\Scripts')\n",
    "import arcpy\n",
    "\n",
    "arcpy.env.workspace = r\"U:\\ARCPY_LAB1\\DATA\\saep_bg10\"\n",
    "\n",
    "fc = r\"saep_bg10.shp\"\n",
    "ft = r\"WashingtonFIPS.dbf\""
   ]
  },
  {
   "cell_type": "code",
   "execution_count": 2,
   "metadata": {
    "collapsed": false
   },
   "outputs": [
    {
     "data": {
      "text/plain": [
       "<Result 'U:\\\\ARCPY_LAB1\\\\DATA\\\\saep_bg10\\\\saep_bg10.shp'>"
      ]
     },
     "execution_count": 2,
     "metadata": {},
     "output_type": "execute_result"
    }
   ],
   "source": [
    "# Join Table to Featureclass.  \n",
    "# To have all the appropriate information in a single place, the .dbf file with the table containing \n",
    "# county names and FIPS codes needed to be joined to the shapefile. To do so, the \n",
    "# arcpy.JoinField_management function was used. This part of the assignment took approximaetly 45 minutes. \n",
    "# This however, does not take in consideration the amount of time it takes to join the tables, which was \n",
    "# approximately 10 minutes. \n",
    "\n",
    "# Set the local parameters\n",
    "in_data = \"saep_bg10.shp\"\n",
    "in_field = \"COUNTYFP10\"\n",
    "join_table = \"WashingtonFIPS.dbf\"\n",
    "join_field = \"FIPSCounty\"\n",
    "\n",
    "# Join the table to the feature class by the FIPSCounty/CountyFP10 fields. \n",
    "arcpy.JoinField_management (in_data, in_field, join_table, join_field)  "
   ]
  },
  {
   "cell_type": "code",
   "execution_count": 4,
   "metadata": {
    "collapsed": true
   },
   "outputs": [],
   "source": [
    "# Import moduel to convert shapefiles to geoJSON files. \n",
    "from subprocess import call\n",
    "import os\n",
    "\n",
    "os.environ[\"GDAL_DATA\"] = \"C:\\\\OSGeo4W\\\\share\\\\gdal\"\n",
    "os.environ[\"GDAL_DRIVER_PATH\"] = \"C:\\\\OSGeo4W\\\\bin\\\\gdalplugins\"\n",
    "os.environ[\"PROJ_LIB\"] = \"C:\\\\OSGeo4W\\\\share\\\\proj\"\n",
    "os.environ[\"PATH\"] = \"C:\\\\OSGeo4W\\\\bin;\"+os.environ[\"PATH\"]+\";C:\\\\OSGeo4W\\\\apps\\\\msys\\\\bin;C:\\\\OSGeo4W\\\\apps\\\\Python27\\\\Scripts\""
   ]
  },
  {
   "cell_type": "code",
   "execution_count": 6,
   "metadata": {
    "collapsed": false
   },
   "outputs": [],
   "source": [
    "# Select all blocks with the same FIPS code. \n",
    "# This section of the code produces shapefiles with county names, containing the appropriate census tracts based on \n",
    "# FIPs codes. To do so, a cursor was created to run through all 39 counties in Washington Shate. A loop was then\n",
    "# created to produce the output files, and an SQL query based on the arcpy.Select_analysis function. The last section of\n",
    "# code converts the shapefiles to geoJSON files. This part of the assignment took approximately 6 hours. \n",
    "\n",
    "county_list = []\n",
    "FIPS_list = []\n",
    "\n",
    "with arcpy.da.SearchCursor (ft, [\"CountyName\", \"FIPSCounty\"]) as cursor: #database file is used to only run through 39 rows.\n",
    "    for row in cursor: \n",
    "        county_list.append(row[0])\n",
    "        FIPS_list.append(row[1])\n",
    "    del row\n",
    "    del cursor \n",
    "\n",
    "# Create a layer based on FIPS codes and county names.\n",
    "# Set output paths.\n",
    "\n",
    "for n in range (0, len(FIPS_list)):\n",
    "    fips_num = FIPS_list[n]\n",
    "    county_name = county_list[n]\n",
    "    shapefile_output = county_name + \".shp\"\n",
    "    shapefile_destination = \"U:\\\\ARCPY_LAB1\\\\DATA\\\\saep_bg10\\\\county_shapefiles\\\\\" + shapefile_output \n",
    "    geoJSON_output = county_name + \".geojson\"\n",
    "    geoJSON_destination = \"U:\\\\ARCPY_LAB1\\\\DATA\\\\saep_bg10\\\\geoJSON_files\\\\\" + geoJSON_output\n",
    "    \n",
    "# SQL Query \n",
    "    SQL_Query = '\"FIPSCounty\" = \\'' + fips_num + '\\'' \n",
    "    arcpy.Select_analysis(fc, shapefile_destination, SQL_Query)\n",
    "    \n",
    "# Convert files from shapefiles to geoJSON file.\n",
    "    call(['C:\\\\OSGeo4W\\\\bin\\\\ogr2ogr', '-f','GeoJSON','-t_srs',\n",
    "          'WGS84', '-s_srs','EPSG:2927', geoJSON_destination, shapefile_destination])"
   ]
  },
  {
   "cell_type": "code",
   "execution_count": 27,
   "metadata": {
    "collapsed": false
   },
   "outputs": [
    {
     "name": "stdout",
     "output_type": "stream",
     "text": [
      "[1981900.0, 814500.0, 730500.0, 480000.0, 435500.0, 260100.0, 254000.0, 247250.0, 205800.0, 183400.0]\n"
     ]
    }
   ],
   "source": [
    "# Ranking population according to county.\n",
    "# Print out a ranked list, in descending order, of the ten largest total populations in 2013 \n",
    "# of counties in Washington, according to this dataset. To do so the environment workspace needed to \n",
    "# be reset to the folder containing the county shapefiles. A loop and cursor were then created to based\n",
    "# on the sum function. This will produce the total population per county. The last section of the code\n",
    "# sorts the values, and is then reversed to produce the values in decending order. The last line of \n",
    "# code prints out the first ten values. This section of code took approximately 1.5 hours.\n",
    "\n",
    "\n",
    "arcpy.env.workspace = r\"U:\\ARCPY_LAB1\\DATA\\saep_bg10\\county_shapefiles\"\n",
    "countyshp_list = arcpy.ListFeatureClasses()\n",
    "total_pop2013 = []\n",
    "\n",
    "for shapefile in countyshp_list:\n",
    "    pop2013 = []\n",
    "    with arcpy.da.SearchCursor (shapefile, [\"POP2013\"]) as cursor:\n",
    "        for row in cursor:\n",
    "            pop2013.append(row[0])\n",
    "            \n",
    "        county_pop = math.fsum(pop2013) \n",
    "        total_pop2013.append(county_pop)\n",
    "        \n",
    "total_pop2013.sort()\n",
    "total_pop2013.sort (reverse=True)\n",
    "print total_pop2013 [:10]"
   ]
  },
  {
   "cell_type": "code",
   "execution_count": null,
   "metadata": {
    "collapsed": true
   },
   "outputs": [],
   "source": []
  }
 ],
 "metadata": {
  "kernelspec": {
   "display_name": "Python 2",
   "language": "python",
   "name": "python2"
  },
  "language_info": {
   "codemirror_mode": {
    "name": "ipython",
    "version": 2
   },
   "file_extension": ".py",
   "mimetype": "text/x-python",
   "name": "python",
   "nbconvert_exporter": "python",
   "pygments_lexer": "ipython2",
   "version": "2.7.10"
  }
 },
 "nbformat": 4,
 "nbformat_minor": 0
}
